{
 "cells": [
  {
   "cell_type": "code",
   "execution_count": 1,
   "id": "0ad1072d-3c8c-4d5a-ae68-47b6a8141eda",
   "metadata": {},
   "outputs": [
    {
     "name": "stdout",
     "output_type": "stream",
     "text": [
      "Requirement already satisfied: evaluate in /system/conda/miniconda3/envs/cloudspace/lib/python3.10/site-packages (0.4.5)\n",
      "Requirement already satisfied: sentencepiece in /system/conda/miniconda3/envs/cloudspace/lib/python3.10/site-packages (0.2.1)\n",
      "Requirement already satisfied: transformers in /system/conda/miniconda3/envs/cloudspace/lib/python3.10/site-packages (4.55.3)\n",
      "Requirement already satisfied: datasets>=2.0.0 in /system/conda/miniconda3/envs/cloudspace/lib/python3.10/site-packages (from evaluate) (4.0.0)\n",
      "Requirement already satisfied: numpy>=1.17 in /system/conda/miniconda3/envs/cloudspace/lib/python3.10/site-packages (from evaluate) (1.26.4)\n",
      "Requirement already satisfied: dill in /system/conda/miniconda3/envs/cloudspace/lib/python3.10/site-packages (from evaluate) (0.3.8)\n",
      "Requirement already satisfied: pandas in /system/conda/miniconda3/envs/cloudspace/lib/python3.10/site-packages (from evaluate) (2.1.4)\n",
      "Requirement already satisfied: requests>=2.19.0 in /system/conda/miniconda3/envs/cloudspace/lib/python3.10/site-packages (from evaluate) (2.32.5)\n",
      "Requirement already satisfied: tqdm>=4.62.1 in /system/conda/miniconda3/envs/cloudspace/lib/python3.10/site-packages (from evaluate) (4.67.1)\n",
      "Requirement already satisfied: xxhash in /system/conda/miniconda3/envs/cloudspace/lib/python3.10/site-packages (from evaluate) (3.5.0)\n",
      "Requirement already satisfied: multiprocess in /system/conda/miniconda3/envs/cloudspace/lib/python3.10/site-packages (from evaluate) (0.70.16)\n",
      "Requirement already satisfied: fsspec>=2021.05.0 in /system/conda/miniconda3/envs/cloudspace/lib/python3.10/site-packages (from fsspec[http]>=2021.05.0->evaluate) (2025.3.0)\n",
      "Requirement already satisfied: huggingface-hub>=0.7.0 in /system/conda/miniconda3/envs/cloudspace/lib/python3.10/site-packages (from evaluate) (0.34.4)\n",
      "Requirement already satisfied: packaging in /system/conda/miniconda3/envs/cloudspace/lib/python3.10/site-packages (from evaluate) (25.0)\n",
      "Requirement already satisfied: filelock in /system/conda/miniconda3/envs/cloudspace/lib/python3.10/site-packages (from transformers) (3.19.1)\n",
      "Requirement already satisfied: pyyaml>=5.1 in /system/conda/miniconda3/envs/cloudspace/lib/python3.10/site-packages (from transformers) (6.0.2)\n",
      "Requirement already satisfied: regex!=2019.12.17 in /system/conda/miniconda3/envs/cloudspace/lib/python3.10/site-packages (from transformers) (2025.7.34)\n",
      "Requirement already satisfied: tokenizers<0.22,>=0.21 in /system/conda/miniconda3/envs/cloudspace/lib/python3.10/site-packages (from transformers) (0.21.4)\n",
      "Requirement already satisfied: safetensors>=0.4.3 in /system/conda/miniconda3/envs/cloudspace/lib/python3.10/site-packages (from transformers) (0.6.2)\n",
      "Requirement already satisfied: typing-extensions>=3.7.4.3 in /system/conda/miniconda3/envs/cloudspace/lib/python3.10/site-packages (from huggingface-hub>=0.7.0->evaluate) (4.14.1)\n",
      "Requirement already satisfied: hf-xet<2.0.0,>=1.1.3 in /system/conda/miniconda3/envs/cloudspace/lib/python3.10/site-packages (from huggingface-hub>=0.7.0->evaluate) (1.1.8)\n",
      "Requirement already satisfied: pyarrow>=15.0.0 in /system/conda/miniconda3/envs/cloudspace/lib/python3.10/site-packages (from datasets>=2.0.0->evaluate) (21.0.0)\n",
      "Requirement already satisfied: aiohttp!=4.0.0a0,!=4.0.0a1 in /system/conda/miniconda3/envs/cloudspace/lib/python3.10/site-packages (from fsspec[http]>=2021.05.0->evaluate) (3.12.15)\n",
      "Requirement already satisfied: aiohappyeyeballs>=2.5.0 in /system/conda/miniconda3/envs/cloudspace/lib/python3.10/site-packages (from aiohttp!=4.0.0a0,!=4.0.0a1->fsspec[http]>=2021.05.0->evaluate) (2.6.1)\n",
      "Requirement already satisfied: aiosignal>=1.4.0 in /system/conda/miniconda3/envs/cloudspace/lib/python3.10/site-packages (from aiohttp!=4.0.0a0,!=4.0.0a1->fsspec[http]>=2021.05.0->evaluate) (1.4.0)\n",
      "Requirement already satisfied: async-timeout<6.0,>=4.0 in /system/conda/miniconda3/envs/cloudspace/lib/python3.10/site-packages (from aiohttp!=4.0.0a0,!=4.0.0a1->fsspec[http]>=2021.05.0->evaluate) (5.0.1)\n",
      "Requirement already satisfied: attrs>=17.3.0 in /system/conda/miniconda3/envs/cloudspace/lib/python3.10/site-packages (from aiohttp!=4.0.0a0,!=4.0.0a1->fsspec[http]>=2021.05.0->evaluate) (25.3.0)\n",
      "Requirement already satisfied: frozenlist>=1.1.1 in /system/conda/miniconda3/envs/cloudspace/lib/python3.10/site-packages (from aiohttp!=4.0.0a0,!=4.0.0a1->fsspec[http]>=2021.05.0->evaluate) (1.7.0)\n",
      "Requirement already satisfied: multidict<7.0,>=4.5 in /system/conda/miniconda3/envs/cloudspace/lib/python3.10/site-packages (from aiohttp!=4.0.0a0,!=4.0.0a1->fsspec[http]>=2021.05.0->evaluate) (6.6.4)\n",
      "Requirement already satisfied: propcache>=0.2.0 in /system/conda/miniconda3/envs/cloudspace/lib/python3.10/site-packages (from aiohttp!=4.0.0a0,!=4.0.0a1->fsspec[http]>=2021.05.0->evaluate) (0.3.2)\n",
      "Requirement already satisfied: yarl<2.0,>=1.17.0 in /system/conda/miniconda3/envs/cloudspace/lib/python3.10/site-packages (from aiohttp!=4.0.0a0,!=4.0.0a1->fsspec[http]>=2021.05.0->evaluate) (1.20.1)\n",
      "Requirement already satisfied: idna>=2.0 in /system/conda/miniconda3/envs/cloudspace/lib/python3.10/site-packages (from yarl<2.0,>=1.17.0->aiohttp!=4.0.0a0,!=4.0.0a1->fsspec[http]>=2021.05.0->evaluate) (3.10)\n",
      "Requirement already satisfied: charset_normalizer<4,>=2 in /system/conda/miniconda3/envs/cloudspace/lib/python3.10/site-packages (from requests>=2.19.0->evaluate) (3.4.3)\n",
      "Requirement already satisfied: urllib3<3,>=1.21.1 in /system/conda/miniconda3/envs/cloudspace/lib/python3.10/site-packages (from requests>=2.19.0->evaluate) (2.5.0)\n",
      "Requirement already satisfied: certifi>=2017.4.17 in /system/conda/miniconda3/envs/cloudspace/lib/python3.10/site-packages (from requests>=2.19.0->evaluate) (2025.8.3)\n",
      "Requirement already satisfied: python-dateutil>=2.8.2 in /system/conda/miniconda3/envs/cloudspace/lib/python3.10/site-packages (from pandas->evaluate) (2.9.0.post0)\n",
      "Requirement already satisfied: pytz>=2020.1 in /system/conda/miniconda3/envs/cloudspace/lib/python3.10/site-packages (from pandas->evaluate) (2025.2)\n",
      "Requirement already satisfied: tzdata>=2022.1 in /system/conda/miniconda3/envs/cloudspace/lib/python3.10/site-packages (from pandas->evaluate) (2025.2)\n",
      "Requirement already satisfied: six>=1.5 in /system/conda/miniconda3/envs/cloudspace/lib/python3.10/site-packages (from python-dateutil>=2.8.2->pandas->evaluate) (1.17.0)\n"
     ]
    }
   ],
   "source": [
    "!pip install evaluate sentencepiece transformers"
   ]
  },
  {
   "cell_type": "code",
   "execution_count": 2,
   "id": "fb14a330-8ff3-4d2b-b13d-34c13390bb3a",
   "metadata": {},
   "outputs": [],
   "source": [
    "import os\n",
    "import pandas as pd\n",
    "import torch\n",
    "from datasets import Dataset\n",
    "from transformers import (\n",
    "    MT5ForConditionalGeneration,\n",
    "    MT5Tokenizer,\n",
    "    AutoTokenizer,\n",
    "    TrainingArguments,\n",
    "    Trainer,\n",
    "    DataCollatorForSeq2Seq,\n",
    "    Seq2SeqTrainingArguments\n",
    ")\n",
    "import numpy as np\n",
    "import evaluate"
   ]
  },
  {
   "cell_type": "code",
   "execution_count": 3,
   "id": "8931c477-bccd-4bd6-8c06-14d3730434e2",
   "metadata": {},
   "outputs": [],
   "source": [
    "# import os\n",
    "# os.environ[\"PYTORCH_CUDA_ALLOC_CONF\"] = \"expandable_segments:True\"\n"
   ]
  },
  {
   "cell_type": "code",
   "execution_count": null,
   "id": "71ba598e-3a95-454a-84e6-c91c2233ab91",
   "metadata": {},
   "outputs": [
    {
     "name": "stdout",
     "output_type": "stream",
     "text": [
      "Train rows: 7007 | Eval rows: 1752\n"
     ]
    }
   ],
   "source": [
    "train_file = \"train_subset_0.10_percent.csv\"\n",
    "test_file  = \"test_subset_0.10_percent.csv\"\n",
    "train_df = pd.read_csv(train_file).dropna(subset=[\"question_my\",\"context_my\",\"answer_my\"])\n",
    "test_df  = pd.read_csv(test_file).dropna(subset=[\"question_my\",\"context_my\",\"answer_my\"])\n",
    "\n",
    "print(f\"Train rows: {len(train_df)} | Eval rows: {len(test_df)}\")\n",
    "\n",
    "# Convert to HuggingFace datasets\n",
    "train_ds = Dataset.from_pandas(train_df[[\"question_my\",\"context_my\",\"answer_my\"]])\n",
    "train_ds = train_ds.shuffle(seed=42)\n",
    "train_ds = train_ds.select(range(min(1000, len(train_ds))))\n",
    "\n",
    "eval_ds  = Dataset.from_pandas(test_df[[\"question_my\",\"context_my\",\"answer_my\"]])\n",
    "eval_ds = eval_ds.shuffle(seed=42)\n",
    "eval_ds = eval_ds.select(range(min(100, len(eval_ds))))\n",
    "\n",
    "#only using a sample set for the test run. "
   ]
  },
  {
   "cell_type": "code",
   "execution_count": null,
   "id": "a4625413-a7cb-4658-b0f3-d676a3002aec",
   "metadata": {},
   "outputs": [
    {
     "name": "stderr",
     "output_type": "stream",
     "text": [
      "You are using the default legacy behaviour of the <class 'transformers.models.t5.tokenization_t5.T5Tokenizer'>. This is expected, and simply means that the `legacy` (previous) behavior will be used so nothing changes for you. If you want to use the new behaviour, set `legacy=False`. This should only be set if you understand what it means, and thoroughly read the reason why this was added as explained in https://github.com/huggingface/transformers/pull/24565\n"
     ]
    }
   ],
   "source": [
    "\n",
    "model_name = \"google/mt5-base\"\n",
    "\n",
    "tokenizer = AutoTokenizer.from_pretrained(model_name, use_fast=False)\n",
    "model = MT5ForConditionalGeneration.from_pretrained(model_name)\n",
    "\n",
    "if tokenizer.pad_token is None:\n",
    "    tokenizer.pad_token = tokenizer.eos_token\n",
    "    model.config.pad_token_id = tokenizer.pad_token_id\n",
    "\n",
    "max_input_len = 512-128\n",
    "max_target_len = 128\n"
   ]
  },
  {
   "cell_type": "code",
   "execution_count": 6,
   "id": "cf5ea05a-39ff-43f9-b531-7f20e33f9da7",
   "metadata": {},
   "outputs": [
    {
     "name": "stdout",
     "output_type": "stream",
     "text": [
      "True\n",
      "1\n",
      "NVIDIA A100-SXM4-40GB\n"
     ]
    }
   ],
   "source": [
    "import torch\n",
    "print(torch.cuda.is_available())\n",
    "print(torch.cuda.device_count())\n",
    "print(torch.cuda.get_device_name(0) if torch.cuda.is_available() else \"No GPU\")\n"
   ]
  },
  {
   "cell_type": "code",
   "execution_count": null,
   "id": "3f0d6e15-4753-468a-8526-94002917ae44",
   "metadata": {},
   "outputs": [
    {
     "data": {
      "application/vnd.jupyter.widget-view+json": {
       "model_id": "25222a60b1ea4e88a7bca7a8b9e0cb72",
       "version_major": 2,
       "version_minor": 0
      },
      "text/plain": [
       "Map:   0%|          | 0/1000 [00:00<?, ? examples/s]"
      ]
     },
     "metadata": {},
     "output_type": "display_data"
    },
    {
     "name": "stderr",
     "output_type": "stream",
     "text": [
      "/home/zeus/miniconda3/envs/cloudspace/lib/python3.10/site-packages/transformers/tokenization_utils_base.py:4006: UserWarning: `as_target_tokenizer` is deprecated and will be removed in v5 of Transformers. You can tokenize your labels by using the argument `text_target` of the regular `__call__` method (either in the same call as your input texts if you use the same keyword arguments, or in a separate call.\n",
      "  warnings.warn(\n"
     ]
    },
    {
     "data": {
      "application/vnd.jupyter.widget-view+json": {
       "model_id": "16db934d58a04f208dfdef9ebb4b262c",
       "version_major": 2,
       "version_minor": 0
      },
      "text/plain": [
       "Map:   0%|          | 0/100 [00:00<?, ? examples/s]"
      ]
     },
     "metadata": {},
     "output_type": "display_data"
    }
   ],
   "source": [
    "\n",
    "def preprocess_fn(batch):\n",
    "    # build input like: \"question: ... context: ...\"\n",
    "    inputs = [\n",
    "        f\"question: {q} context: {c}\"\n",
    "        for q,c in zip(batch[\"question_my\"], batch[\"context_my\"])\n",
    "    ]\n",
    "    model_inputs = tokenizer(\n",
    "        inputs,\n",
    "        max_length=max_input_len,\n",
    "        truncation=\"only_second\",   # truncate context first\n",
    "        stride=64,                  # allow overlap if context too long\n",
    "        return_overflowing_tokens=True,\n",
    "        padding=\"max_length\",\n",
    "    )\n",
    "\n",
    "    # tokenize answers\n",
    "    with tokenizer.as_target_tokenizer():\n",
    "        labels = tokenizer(\n",
    "            batch[\"answer_my\"],\n",
    "            max_length=max_target_len,\n",
    "            truncation=True,\n",
    "            padding=\"max_length\",\n",
    "        )\n",
    "\n",
    "    # replace pad token id with -100 so loss ignores itu\n",
    "    labels_ids = [\n",
    "        [(l if l != tokenizer.pad_token_id else -100) for l in label]\n",
    "        for label in labels[\"input_ids\"]\n",
    "    ]\n",
    "    model_inputs[\"labels\"] = labels_ids\n",
    "\n",
    "    return model_inputs\n",
    "\n",
    "# Map preprocessing\n",
    "train_ds = train_ds.map(preprocess_fn, batched=True, remove_columns=train_ds.column_names)\n",
    "eval_ds  = eval_ds.map(preprocess_fn, batched=True, remove_columns=eval_ds.column_names)\n"
   ]
  },
  {
   "cell_type": "code",
   "execution_count": 8,
   "id": "2ab81cef-d7e9-4feb-8c13-37c4fa6ef670",
   "metadata": {},
   "outputs": [],
   "source": [
    "import numpy as np\n",
    "from transformers import EvalPrediction\n",
    "\n",
    "def normalize_text(text):\n",
    "    return text.strip().lower()\n",
    "\n",
    "def compute_f1(pred, truth):\n",
    "    pred_tokens = pred.split()\n",
    "    truth_tokens = truth.split()\n",
    "    common = set(pred_tokens) & set(truth_tokens)\n",
    "    if len(common) == 0:\n",
    "        return 0.0\n",
    "    prec = len(common) / len(pred_tokens)\n",
    "    rec = len(common) / len(truth_tokens)\n",
    "    return 2 * prec * rec / (prec + rec)\n",
    "\n",
    "def compute_metrics(eval_pred: EvalPrediction):\n",
    "    preds, labels = eval_pred\n",
    "\n",
    "    # Some trainers return tuple (logits, ...) → take argmax\n",
    "    if isinstance(preds, tuple):\n",
    "        preds = preds[0]\n",
    "\n",
    "    # Convert to numpy\n",
    "    preds = np.argmax(preds, axis=-1) if preds.ndim == 3 else preds\n",
    "\n",
    "    # Replace -100 in labels with pad_token_id\n",
    "    labels = np.where(labels != -100, labels, tokenizer.pad_token_id)\n",
    "\n",
    "    # Decode\n",
    "    decoded_preds = tokenizer.batch_decode(preds, skip_special_tokens=True)\n",
    "    decoded_labels = tokenizer.batch_decode(labels, skip_special_tokens=True)\n",
    "\n",
    "    # Normalize\n",
    "    decoded_preds = [normalize_text(p) for p in decoded_preds]\n",
    "    decoded_labels = [normalize_text(l) for l in decoded_labels]\n",
    "\n",
    "    # Metrics\n",
    "    exact_matches = [int(p == l) for p, l in zip(decoded_preds, decoded_labels)]\n",
    "    f1s = [compute_f1(p, l) for p, l in zip(decoded_preds, decoded_labels)]\n",
    "\n",
    "    return {\n",
    "        \"exact_match\": float(np.mean(exact_matches)),\n",
    "        \"f1\": float(np.mean(f1s))\n",
    "    }\n"
   ]
  },
  {
   "cell_type": "code",
   "execution_count": 11,
   "id": "736a7267-f267-4edb-adcb-2cce39a0a415",
   "metadata": {},
   "outputs": [],
   "source": [
    "# bleu = evaluate.load(\"bleu\")\n",
    "# import numpy as np\n",
    "\n",
    "\n",
    "# def compute_metrics(eval_pred):\n",
    "#     preds, labels = eval_pred\n",
    "\n",
    "#     if isinstance(preds, tuple):\n",
    "#         preds = preds[0]\n",
    "\n",
    "#     preds = np.array(preds)\n",
    "\n",
    "#     if preds.ndim == 3:\n",
    "#         preds = preds[:, 0, :]\n",
    "\n",
    "#     preds = np.where(\n",
    "#         (preds < 0) | (preds >= tokenizer.vocab_size),\n",
    "#         tokenizer.pad_token_id,\n",
    "#         preds\n",
    "#     )\n",
    "\n",
    "#     decoded_preds = tokenizer.batch_decode(preds, skip_special_tokens=True)\n",
    "#     labels = np.where(labels != -100, labels, tokenizer.pad_token_id)\n",
    "#     decoded_labels = tokenizer.batch_decode(labels, skip_special_tokens=True)\n",
    "\n",
    "#     # strip & filter out empties\n",
    "#     decoded_preds = [p.strip() for p in decoded_preds]\n",
    "#     decoded_labels = [l.strip() for l in decoded_labels]\n",
    "\n",
    "#     filtered = [(p, l) for p, l in zip(decoded_preds, decoded_labels) if l != \"\"]\n",
    "#     if len(filtered) == 0:\n",
    "#         return {\"exact_match\": 0.0, \"bleu\": 0.0}\n",
    "\n",
    "#     decoded_preds, decoded_labels = zip(*filtered)\n",
    "\n",
    "#     exact = sum(p == l for p, l in zip(decoded_preds, decoded_labels)) / len(decoded_preds)\n",
    "\n",
    "#     try:\n",
    "#         bleu_score = bleu.compute(\n",
    "#             predictions=list(decoded_preds),\n",
    "#             references=[[l] for l in decoded_labels]\n",
    "#         )[\"bleu\"]\n",
    "#     except ZeroDivisionError:\n",
    "#         bleu_score = 0.0\n",
    "\n",
    "#     return {\"exact_match\": exact, \"bleu\": bleu_score}\n",
    "\n",
    "\n",
    "\n",
    "# ----------------------------\n",
    "# 5. Training setup\n",
    "# ----------------------------\n",
    "from transformers import Seq2SeqTrainingArguments\n",
    "\n",
    "args = Seq2SeqTrainingArguments(\n",
    "    output_dir=\"./mt5_qa_output\",\n",
    "    eval_strategy=\"epoch\",\n",
    "    save_strategy=\"epoch\",\n",
    "    logging_dir=\"./logs\",\n",
    "    logging_steps=50,\n",
    "    num_train_epochs=5,\n",
    "    per_device_train_batch_size=8,               # ✅ safe default for mT5-base on GPU\n",
    "    per_device_eval_batch_size=4,                #   Evaluation is more memory-intensive, e.g., due to predict_with_generate=True which runs autoregressive decoding\n",
    "    gradient_accumulation_steps=2,               # ✅ effective batch size = 16\n",
    "    eval_accumulation_steps=2,\n",
    "    learning_rate=3e-5,                          # ✅ slightly lower for stability\n",
    "    weight_decay=0.01,\n",
    "    warmup_ratio=0.1,\n",
    "    predict_with_generate=True,\n",
    "    generation_max_length=32,\n",
    "    load_best_model_at_end=True,\n",
    "    metric_for_best_model=\"exact_match\",\n",
    "    greater_is_better=True,\n",
    "    fp16=False   ,      \n",
    "    bf16= True,\n",
    "    \n",
    "    report_to=\"none\",\n",
    ")\n",
    "\n",
    "\n",
    "collator = DataCollatorForSeq2Seq(tokenizer, model=model, label_pad_token_id=-100)\n"
   ]
  },
  {
   "cell_type": "code",
   "execution_count": null,
   "id": "59d0248b-528d-4087-bedf-9843118c1088",
   "metadata": {},
   "outputs": [
    {
     "name": "stderr",
     "output_type": "stream",
     "text": [
      "/tmp/ipykernel_22898/55122998.py:1: FutureWarning: `tokenizer` is deprecated and will be removed in version 5.0.0 for `Trainer.__init__`. Use `processing_class` instead.\n",
      "  trainer = Trainer(\n"
     ]
    },
    {
     "data": {
      "text/html": [
       "\n",
       "    <div>\n",
       "      \n",
       "      <progress value='315' max='315' style='width:300px; height:20px; vertical-align: middle;'></progress>\n",
       "      [315/315 04:51, Epoch 5/5]\n",
       "    </div>\n",
       "    <table border=\"1\" class=\"dataframe\">\n",
       "  <thead>\n",
       " <tr style=\"text-align: left;\">\n",
       "      <th>Epoch</th>\n",
       "      <th>Training Loss</th>\n",
       "      <th>Validation Loss</th>\n",
       "      <th>Exact Match</th>\n",
       "      <th>F1</th>\n",
       "    </tr>\n",
       "  </thead>\n",
       "  <tbody>\n",
       "    <tr>\n",
       "      <td>1</td>\n",
       "      <td>9.669900</td>\n",
       "      <td>4.890985</td>\n",
       "      <td>0.000000</td>\n",
       "      <td>0.001820</td>\n",
       "    </tr>\n",
       "    <tr>\n",
       "      <td>2</td>\n",
       "      <td>6.973400</td>\n",
       "      <td>3.073560</td>\n",
       "      <td>0.000000</td>\n",
       "      <td>0.005089</td>\n",
       "    </tr>\n",
       "    <tr>\n",
       "      <td>3</td>\n",
       "      <td>4.798800</td>\n",
       "      <td>2.566700</td>\n",
       "      <td>0.000000</td>\n",
       "      <td>0.016494</td>\n",
       "    </tr>\n",
       "    <tr>\n",
       "      <td>4</td>\n",
       "      <td>3.840800</td>\n",
       "      <td>2.449344</td>\n",
       "      <td>0.000000</td>\n",
       "      <td>0.050093</td>\n",
       "    </tr>\n",
       "    <tr>\n",
       "      <td>5</td>\n",
       "      <td>3.692800</td>\n",
       "      <td>2.420010</td>\n",
       "      <td>0.000000</td>\n",
       "      <td>0.058981</td>\n",
       "    </tr>\n",
       "  </tbody>\n",
       "</table><p>"
      ],
      "text/plain": [
       "<IPython.core.display.HTML object>"
      ]
     },
     "metadata": {},
     "output_type": "display_data"
    },
    {
     "name": "stderr",
     "output_type": "stream",
     "text": [
      "There were missing keys in the checkpoint model loaded: ['encoder.embed_tokens.weight', 'decoder.embed_tokens.weight'].\n"
     ]
    },
    {
     "data": {
      "text/plain": [
       "TrainOutput(global_step=315, training_loss=5.412277778746589, metrics={'train_runtime': 291.4424, 'train_samples_per_second': 17.156, 'train_steps_per_second': 1.081, 'total_flos': 5537401122299904.0, 'train_loss': 5.412277778746589, 'epoch': 5.0})"
      ]
     },
     "execution_count": 12,
     "metadata": {},
     "output_type": "execute_result"
    }
   ],
   "source": [
    "trainer = Trainer(\n",
    "    model=model,\n",
    "    args=args,\n",
    "    train_dataset=train_ds,\n",
    "    eval_dataset=eval_ds,\n",
    "    tokenizer=tokenizer,\n",
    "    data_collator=collator,\n",
    "    compute_metrics=compute_metrics,\n",
    ")\n",
    "\n",
    "\n",
    "\n",
    "#THIS IS ONLY A TEST RUN. \n",
    "trainer.train()"
   ]
  },
  {
   "cell_type": "code",
   "execution_count": null,
   "id": "b662a6a4-3fdc-43fb-87ec-b357c49e1dfb",
   "metadata": {},
   "outputs": [],
   "source": [
    "trainer.save_model(\"./mt5_qa_output\")\n",
    "tokenizer.save_pretrained(\"./mt5_qa_output\")"
   ]
  },
  {
   "cell_type": "code",
   "execution_count": null,
   "id": "254a1e42-f07d-4550-9778-6a7c57f98446",
   "metadata": {},
   "outputs": [],
   "source": [
    "eval_results = trainer.evaluate()\n",
    "print(\"Final evaluation:\", eval_results)"
   ]
  }
 ],
 "metadata": {
  "kernelspec": {
   "display_name": "Python 3",
   "language": "python",
   "name": "python3"
  },
  "language_info": {
   "codemirror_mode": {
    "name": "ipython",
    "version": 3
   },
   "file_extension": ".py",
   "mimetype": "text/x-python",
   "name": "python",
   "nbconvert_exporter": "python",
   "pygments_lexer": "ipython3",
   "version": "3.10.10"
  }
 },
 "nbformat": 4,
 "nbformat_minor": 5
}
